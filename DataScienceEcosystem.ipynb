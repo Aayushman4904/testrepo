{
 "cells": [
  {
   "cell_type": "markdown",
   "id": "c2a8c817-ec70-47bf-9f56-3b602168117d",
   "metadata": {},
   "source": [
    "# Data Science Tools and Ecosystem #"
   ]
  },
  {
   "cell_type": "markdown",
   "id": "d60e94a2-caef-468e-80b1-13e5c26a4408",
   "metadata": {},
   "source": [
    "In this notebook, Data Science Tools and Ecosystem are summarized."
   ]
  },
  {
   "cell_type": "markdown",
   "id": "b44e3b94-ae93-4272-bafe-7f8f93480c7c",
   "metadata": {},
   "source": [
    "**Objectives:**\n",
    "- List popular languages used by Data Scientists\n",
    "- List commonly used libraries by Data Scientists\n",
    "- List some popular Data Science Tools in tabular format\n",
    "- Perform basic arithmetic operations"
   ]
  },
  {
   "cell_type": "markdown",
   "id": "4f958818-ab6e-472e-b8fc-ec764325eff0",
   "metadata": {},
   "source": [
    "Some of the popular languages that Data Scientists use are:\n",
    "1. Python\n",
    "2. R\n",
    "3. SQL\n",
    "4. Scala\n",
    "5. C++\n",
    "6. JavaScript\n",
    "7. Julia"
   ]
  },
  {
   "cell_type": "markdown",
   "id": "6c8fa648-e38d-4b4f-9925-4d91f876a97b",
   "metadata": {},
   "source": [
    "Some of the commonly used libraries used by Data Scientists include:\n",
    "\n",
    "Python:\n",
    "1. Pandas\n",
    "2. Numpy\n",
    "3. Matplotlib\n",
    "4. Seaborn\n",
    "5. Scikit-learn\n",
    "6. Keras\n",
    "7. TensorFlow\n",
    "8. PyTorch\n",
    "\n",
    "R:\n",
    "1. dplyr\n",
    "2. stringr\n",
    "3. ggplot\n",
    "4. caret\n",
    "5. Plotly\n",
    "6. Lattice\n",
    "7. Leaflets"
   ]
  },
  {
   "cell_type": "markdown",
   "id": "6850e2cf-1d8e-44d1-b0d1-4d5dca4287d9",
   "metadata": {},
   "source": [
    "|Data Science Tools|\n",
    "|------------------|\n",
    "|Jupyter|\n",
    "|RStudio|\n",
    "|Spyder|"
   ]
  },
  {
   "cell_type": "markdown",
   "id": "5f9b3e24-4e2d-4686-a733-40fef26caa14",
   "metadata": {},
   "source": [
    "### Below are few examples of evaluating arithmetic expressions in Python ###"
   ]
  },
  {
   "cell_type": "code",
   "execution_count": 12,
   "id": "27816e7d-17cf-42ae-ad97-6c773a63b0a4",
   "metadata": {},
   "outputs": [
    {
     "data": {
      "text/plain": [
       "17"
      ]
     },
     "execution_count": 12,
     "metadata": {},
     "output_type": "execute_result"
    }
   ],
   "source": [
    "# This is a simple arithmetic expression to multiply and then add integers\n",
    "(3*4)+5"
   ]
  },
  {
   "cell_type": "code",
   "execution_count": 14,
   "id": "32422af5-21ad-4c91-9162-0132653771ef",
   "metadata": {},
   "outputs": [
    {
     "data": {
      "text/plain": [
       "3.3333333333333335"
      ]
     },
     "execution_count": 14,
     "metadata": {},
     "output_type": "execute_result"
    }
   ],
   "source": [
    "# This will convert 200 minutes to hours by dividing by 60\n",
    "200/60"
   ]
  },
  {
   "cell_type": "markdown",
   "id": "39196523-5608-447f-a09a-e9c72186c73a",
   "metadata": {},
   "source": [
    "## Author ##\n",
    "Aayushman M Nawani"
   ]
  }
 ],
 "metadata": {
  "kernelspec": {
   "display_name": "Python 3 (ipykernel)",
   "language": "python",
   "name": "python3"
  },
  "language_info": {
   "codemirror_mode": {
    "name": "ipython",
    "version": 3
   },
   "file_extension": ".py",
   "mimetype": "text/x-python",
   "name": "python",
   "nbconvert_exporter": "python",
   "pygments_lexer": "ipython3",
   "version": "3.11.7"
  }
 },
 "nbformat": 4,
 "nbformat_minor": 5
}
